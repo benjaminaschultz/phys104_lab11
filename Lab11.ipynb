{
 "cells": [
  {
   "cell_type": "markdown",
   "metadata": {
    "deletable": false
   },
   "source": [
    "# PHSC 104 Lab 11: Sound Waves"
   ]
  },
  {
   "cell_type": "markdown",
   "metadata": {
    "deletable": false,
    "editable": false
   },
   "source": [
    "In this lab, we'll be exploring some wave basics, superposition, inference. We won't be collecting any data today. Instead we'll be working with files that contain audio recordings.\n",
    "\n",
    "An audio file contains the amplitude of a voltage signal which your computer sends to the the speaker (or headphones). When your computer reads an audio file, it sends this voltage out of the headphone jack and that drives the \"cone\" or membrane of a speaker of vibrate.\n",
    "\n",
    "![speaker](https://2.bp.blogspot.com/_1im1aciBTGE/S2GJSnugCRI/AAAAAAAAAAM/ANtlPhE8Vro/s1600/speaker-material.jpg)\n",
    "\n",
    "As the speaker membrane vibrates, it creates pressure waves which eventually make it to your ear. When those pressure waves hit your ear drum, they vibrate and your brain interprets those vibrations as sound.\n",
    "\n",
    "In this lab we'll generate some sounds with basic sine waves, and then build up some to using some samples of different instruments from [this](https://www.philharmonia.co.uk/explore/sound_samples) collection of free recordings."
   ]
  },
  {
   "cell_type": "markdown",
   "metadata": {},
   "source": [
    "Execute the cell below to import some libraries we'll use in the lab."
   ]
  },
  {
   "cell_type": "code",
   "execution_count": null,
   "metadata": {
    "deletable": false,
    "editable": false
   },
   "outputs": [],
   "source": [
    "%matplotlib notebook\n",
    "from audio_analyzer import *"
   ]
  },
  {
   "cell_type": "markdown",
   "metadata": {},
   "source": [
    "Execute the cell below to hear and view a perfect sine wave. It may appear like a black block, but if you zoom in, you'll see that the it's actually a sine wave. "
   ]
  },
  {
   "cell_type": "code",
   "execution_count": null,
   "metadata": {},
   "outputs": [],
   "source": [
    "generate_sine_wave()"
   ]
  },
  {
   "cell_type": "markdown",
   "metadata": {
    "editable": false
   },
   "source": [
    "Use the graph to find the frequency $f=\\frac{1}{T}$ of this sound wave (in Hertz)? Describe how you measured this instead of just giving a number. \n",
    "\n",
    "\n",
    "If this wave is travelling through the air at a $v_{sound}=334 m/s$, what is its wavelength $\\lambda$? "
   ]
  },
  {
   "cell_type": "markdown",
   "metadata": {},
   "source": [
    "_your answers here_"
   ]
  },
  {
   "cell_type": "markdown",
   "metadata": {},
   "source": [
    "Let's examine a different sine wave now. Execute the cell below."
   ]
  },
  {
   "cell_type": "code",
   "execution_count": null,
   "metadata": {},
   "outputs": [],
   "source": [
    "generate_a_different_sine_wave()"
   ]
  },
  {
   "cell_type": "markdown",
   "metadata": {
    "editable": false
   },
   "source": [
    "To your ears, how does this sound differ from the first wave you listened to?\n",
    "\n",
    "\n",
    "What is the frequency $f=\\frac{1}{T}$  of this sound wave (in Hertz)?\n",
    "\n",
    "If this wave is travelling through the air at a $v_{sound}=330m/s$ , what is its wavelength $\\lambda$?"
   ]
  },
  {
   "cell_type": "markdown",
   "metadata": {},
   "source": [
    "_your answers here_"
   ]
  },
  {
   "cell_type": "markdown",
   "metadata": {
    "editable": false
   },
   "source": [
    "### Phase differences\n",
    "\n",
    "Next, we'll look at two waves that are interfering with eachother. These two waves have the same frequency as the first wave we listened two, but are out of phase with one another. In this example, we'll listen to the their sum.\n",
    "\n",
    "Execute the cell below"
   ]
  },
  {
   "cell_type": "code",
   "execution_count": null,
   "metadata": {},
   "outputs": [],
   "source": [
    "generate_two_sine_waves_with_different_phases()"
   ]
  },
  {
   "cell_type": "markdown",
   "metadata": {
    "editable": false
   },
   "source": [
    "The two individual waves are shown in red and blue and their sum is shown in black.\n",
    "\n",
    "What is frequency of the total wave (black)?\n",
    "\n",
    "What is the phase difference $\\phi$ between the two interfering waves (red and blue)?\n",
    "\n",
    "What is the amplitude $A$ of the two waves (red and blue) ?"
   ]
  },
  {
   "cell_type": "markdown",
   "metadata": {},
   "source": [
    "_your answers here_"
   ]
  },
  {
   "cell_type": "markdown",
   "metadata": {},
   "source": [
    "### Interference with waves of muliple frequencies?\n",
    "\n",
    "Next, we'll look at interference patterns caused by two waves with multiple frequencies. Again, the individual waves will be shown in red and blue and their sum is in black. Zoom in to see the actual waves."
   ]
  },
  {
   "cell_type": "code",
   "execution_count": null,
   "metadata": {},
   "outputs": [],
   "source": [
    "generate_two_sine_waves_with_different_frequencies()"
   ]
  },
  {
   "cell_type": "markdown",
   "metadata": {},
   "source": [
    "How does this sound to your ear, compared to the previous example?\n",
    "\n",
    "\n",
    "What are the two frequencies being added together (red and blue)?\n",
    "\n",
    "Describe the shape of the resulting wave. Is it a perfect sine wave? Is it periodic (i.e. does it repeat)?\n"
   ]
  },
  {
   "cell_type": "markdown",
   "metadata": {
    "deletable": false
   },
   "source": [
    "## Beat Frequencies\n",
    "\n",
    "Next we'll simulate the output of two speakers and have them play *slightly different* frequencies. The sound wave $y$ you'd record in such a scenario is given by\n",
    "\n",
    "$$ y(x=x_{mic}, t) = A\\left(\\cos(\\omega t) + \\cos((\\omega + \\delta \\omega) t)\\right)$$\n",
    "\n",
    "where $x_{mic}$ is the position of the microphone, $\\omega$ is the angular frequency and $\\delta \\omega$ is the difference in angular  frequency. We'll use some trig identities and the substitution $\\bar{\\omega} = \\omega + \\delta \\omega/2$ to simplify this expression a bit.\n",
    "\n",
    "$$ y(t) = A\\left(\\cos\\left((\\bar\\omega  - \\delta\\omega/2) t\\right) + \\cos\\left((\\bar\\omega + \\delta \\omega/2) t\\right) \\right)$$\n",
    "\n",
    "We can use the identity\n",
    "$$\\cos(a + b) = \\cos(a)\\cos(b) - \\sin(a)\\sin(b)$$ \n",
    "\n",
    "To arrive at\n",
    "\n",
    "$$ y(t) = A (\\cos(\\bar\\omega t)\\cos(-\\delta\\omega/2 t) - \\sin(\\bar\\omega t)\\sin(-\\delta\\omega/2 t) + \\cos(\\bar\\omega t)\\cos(\\delta\\omega/2 t) - \\sin(\\bar\\omega t)\\sin(\\delta\\omega/2 t)) $$\n",
    "\n",
    "Using the fact that cosine is even and sine is odd, we can cancel the all of the sine terms and arrive at\n",
    "\n",
    "$$ y(t) = 2 A \\cos(\\bar\\omega t)cos(\\delta \\omega t/2)$$\n",
    "\n",
    "Compare this expression to the simulated signal below. You can also listen to the sample.\n"
   ]
  },
  {
   "cell_type": "code",
   "execution_count": null,
   "metadata": {
    "deletable": false,
    "scrolled": false
   },
   "outputs": [],
   "source": [
    "ts = np.linspace(0, 3, 44100*3)\n",
    "y1s, y2s, ys = generate_beats(frequency=440, ts=ts)\n",
    "plt.figure()\n",
    "\n",
    "plt.plot(ts, y1s, '--r', label='y1')\n",
    "plt.plot(ts, y2s, '--b', label='y2')\n",
    "plt.plot(ts, ys, '-k', label='y1 + y2')\n",
    "plt.xlabel('Time (s)')\n",
    "plt.ylabel('Amplitude')\n",
    "plt.show()\n",
    "\n",
    "with open('beats.wav', 'wb') as outf:\n",
    "    wavfile.write(outf, data=ys.astype(np.float32)/2.0, rate=44100)\n",
    "display.display(Audio('beats.wav'))"
   ]
  },
  {
   "cell_type": "markdown",
   "metadata": {},
   "source": [
    "Do the waves constructively interfere, destructively interfere or does it depend on the time?\n",
    "\n",
    "What is the difference between the two frequencies, $\\delta \\omega$? \n",
    "\n",
    "What is the average frequency of the waves being played, $\n",
    "\\bar\\omega$? "
   ]
  },
  {
   "cell_type": "markdown",
   "metadata": {},
   "source": [
    "_your answers here_"
   ]
  },
  {
   "cell_type": "markdown",
   "metadata": {
    "deletable": false,
    "editable": false
   },
   "source": [
    "### Inferometry\n",
    "\n",
    "Next, we'll simulate what you'd hear from two speakers playing the exact same frequency, in phase but at different volumes (amplitudes). They start at the same location and then one of them is gradually moved away from you. You are able to use a microphone to detect the sound waves and visualize them on a computer.\n",
    "\n",
    "![interferometry_figure](interferometry.svg)\n",
    "\n",
    "The difference in position is given by $\\delta x(t)$. The pressure resulting from from two speakers is:\n",
    "\n",
    "$$y(x=x_{mic}, t) = A_1 \\cos(\\omega t) + A_2\\cos(\\omega t + k \\delta x(t))$$\n",
    "\n",
    "Where $x_{mic}$ is the position of the microphone, $A_1$, $A_2$ are the amplitudes of the two waves, $\\omega$ is the frequency, $k=\\frac{2\\pi}{\\lambda}$ is the wave number (remember $\\omega = k v_{sound}$) and $\\delta x(t)$ is the amount the speaker has moved. $v_{sound} = 334m/s$.\n",
    "\n",
    "Examine the plot below of $y(t)$. Consider what happens for important values of $\\phi(t)=k\\delta x(t)$.\n",
    "\n",
    "\n",
    "Although this particular scenario is a bit contrived, a very similar device was used with light (instead of sound) was used to detect gravitational waves. You can read about LIGO [here](https://en.wikipedia.org/wiki/LIGO)."
   ]
  },
  {
   "cell_type": "code",
   "execution_count": null,
   "metadata": {
    "deletable": false,
    "editable": false
   },
   "outputs": [],
   "source": [
    "ts = np.linspace(0, 5, 44100 * 5)\n",
    "ys = generate_phase_sweep(frequency=440, ts=ts).astype(np.float32)\n",
    "plt.figure()\n",
    "plt.plot(ts, ys,'-k')\n",
    "plt.xlabel('Time (s)')\n",
    "plt.ylabel('Amplitude')\n",
    "plt.show()\n",
    "\n",
    "with open('inf.wav', 'wb') as outf:\n",
    "    wavfile.write(outf, data=ys / np.max(ys), rate=44100)\n",
    "display.display(Audio('inf.wav'))"
   ]
  },
  {
   "cell_type": "markdown",
   "metadata": {
    "editable": false
   },
   "source": [
    "How far did the speaker move?\n",
    "\n",
    " What are the relative amplitudes of the waves generated by the two speakers?\n",
    " "
   ]
  },
  {
   "cell_type": "markdown",
   "metadata": {},
   "source": [
    "_your answers here_"
   ]
  },
  {
   "cell_type": "markdown",
   "metadata": {
    "deletable": false,
    "editable": false
   },
   "source": [
    "Synthesizers + superposition\n",
    "\n",
    "![image](https://i.ytimg.com/vi/X9PhUT9e2wY/hqdefault.jpg)\n",
    "\n",
    "Sounds created in the real world are not perfect sine waves as we've seen so far. Rather, the waves of sound created by different things have different shapes and the shape of those sounds effects the _timbre_ or quality of the sound we hear (e.g. a french horn sounds different than a saxophone).\n",
    "\n",
    "We can build waveforms of arbitrary shape by combining sine waves like the ones we've been studying. Using something called a Fourier Transformation, we can figure out the amplitudes, frequencies and phases of sine waves we need to combine to recreate a wave of arbitrary shape.\n",
    "\n",
    "In the following example, we'll use the method to look at how we can build up a square wave from sine waves. Then we'll compare the shape of the sound waves of the same note being played on a sax and a french horn, and reconstruct both with just sine waves. The waves we generate won't perfectly match how the real intrument sounds for a variety of reasons, but the quality should be pretty similar."
   ]
  },
  {
   "cell_type": "code",
   "execution_count": null,
   "metadata": {
    "deletable": false,
    "editable": false,
    "scrolled": false
   },
   "outputs": [],
   "source": [
    "fourier_analysis('square_wave')"
   ]
  },
  {
   "cell_type": "markdown",
   "metadata": {
    "deletable": false
   },
   "source": [
    "What do you notice about the shape of the sound wave s we add more and more sine waves?\n",
    "\n",
    "\n",
    "Do you hear different pitches as you add more sine waves? What changes about the sound?\n"
   ]
  },
  {
   "cell_type": "markdown",
   "metadata": {},
   "source": [
    "_your answers here_"
   ]
  },
  {
   "cell_type": "markdown",
   "metadata": {
    "editable": false
   },
   "source": [
    "Next we'll look at a french horn playing an A4 (440Hz)."
   ]
  },
  {
   "cell_type": "code",
   "execution_count": null,
   "metadata": {
    "deletable": false,
    "editable": false
   },
   "outputs": [],
   "source": [
    "fourier_analysis('french_horn', rel_height=0.5, t0=0.4, t1=0.6)"
   ]
  },
  {
   "cell_type": "markdown",
   "metadata": {
    "editable": false
   },
   "source": [
    "How does the shape of the sound a french horn makes compare to a sine wave?\n",
    "\n",
    "\n",
    "Do we need more or fewer frequencies to of sine wave to recreate a french horn than we did for the square wave?"
   ]
  },
  {
   "cell_type": "markdown",
   "metadata": {},
   "source": [
    "_your answers here_"
   ]
  },
  {
   "cell_type": "markdown",
   "metadata": {
    "deletable": false
   },
   "source": [
    "Next we'll look at the frequency content of a sax playing A4 (440Hz)"
   ]
  },
  {
   "cell_type": "code",
   "execution_count": null,
   "metadata": {
    "scrolled": false
   },
   "outputs": [],
   "source": [
    "fourier_analysis('sax', t0=0.7, t1=0.75)"
   ]
  },
  {
   "cell_type": "markdown",
   "metadata": {
    "deletable": false
   },
   "source": [
    "How does the shape of the sax's sound compare to a horns?\n",
    "\n",
    "Listen to the waves as more and more frequencies are added. Is there a number of frequencies where it starts to sound more like a sax and less like a sine wave?"
   ]
  },
  {
   "cell_type": "markdown",
   "metadata": {},
   "source": [
    "_your answers here_"
   ]
  },
  {
   "cell_type": "markdown",
   "metadata": {
    "editable": false
   },
   "source": [
    "I hope you've gotten a peak into how waves interefere with each other and how we can use those interference phenomena to do things like measure distances or simulate different sounds we encounter in the world. Make sure your answers are saved in this notebook and complete by friday. I will download all the labs then for grading."
   ]
  }
 ],
 "metadata": {
  "kernelspec": {
   "display_name": "Python 3",
   "language": "python",
   "name": "python3"
  },
  "language_info": {
   "codemirror_mode": {
    "name": "ipython",
    "version": 3
   },
   "file_extension": ".py",
   "mimetype": "text/x-python",
   "name": "python",
   "nbconvert_exporter": "python",
   "pygments_lexer": "ipython3",
   "version": "3.9.0"
  }
 },
 "nbformat": 4,
 "nbformat_minor": 2
}
